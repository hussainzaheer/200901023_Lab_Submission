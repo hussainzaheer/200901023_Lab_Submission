{
  "nbformat": 4,
  "nbformat_minor": 0,
  "metadata": {
    "colab": {
      "name": "200901023_Hussain Zaheer Sarwari",
      "provenance": [],
      "authorship_tag": "ABX9TyP4oGSl/nwEYXoK+9ZJBalp",
      "include_colab_link": true
    },
    "kernelspec": {
      "name": "python3",
      "display_name": "Python 3"
    },
    "language_info": {
      "name": "python"
    }
  },
  "cells": [
    {
      "cell_type": "markdown",
      "metadata": {
        "id": "view-in-github",
        "colab_type": "text"
      },
      "source": [
        "<a href=\"https://colab.research.google.com/github/hussainzaheer/200901023_Lab_Submission/blob/main/200901023_Hussain_Zaheer_Sarwari.ipynb\" target=\"_parent\"><img src=\"https://colab.research.google.com/assets/colab-badge.svg\" alt=\"Open In Colab\"/></a>"
      ]
    },
    {
      "cell_type": "code",
      "metadata": {
        "colab": {
          "base_uri": "https://localhost:8080/"
        },
        "id": "TTKgBFcYoNtc",
        "outputId": "53137557-7335-41b0-fc84-a2e9f20f502e"
      },
      "source": [
        "from collections import deque\n",
        "\n",
        "stack = deque()\n",
        "z1 =deque()\n",
        "country = input(\"Enter the name:\")\n",
        "for x in country:\n",
        "   stack.append(x)\n",
        "print(stack)\n",
        "while len(stack)!=0:\n",
        "   z1.append(stack.pop())\n",
        "print(z1)  \n",
        "\n"
      ],
      "execution_count": null,
      "outputs": [
        {
          "output_type": "stream",
          "name": "stdout",
          "text": [
            "Enter the name:PAKISTAN\n",
            "deque(['P', 'A', 'K', 'I', 'S', 'T', 'A', 'N'])\n",
            "deque(['N', 'A', 'T', 'S', 'I', 'K', 'A', 'P'])\n"
          ]
        }
      ]
    },
    {
      "cell_type": "code",
      "metadata": {
        "id": "1jU8wKw4pnAs",
        "colab": {
          "base_uri": "https://localhost:8080/"
        },
        "outputId": "588957b8-ab3a-47e8-e3bf-dabf048a28d5"
      },
      "source": [
        "from collections import deque\n",
        "\n",
        "balance = input(\"Enter: \")\n",
        "stack = deque()\n",
        "for x in balance:\n",
        "  stack.append(x)\n",
        "if(stack.count('(')!=stack.count(')')): \n",
        "  print(\"Round brackets are not balanced\")\n",
        "else:\n",
        "  print(\"Round brackets are balanced\")  \n",
        "if(stack.count('{')!= stack.count('}')):\n",
        "  print(\"Curly brackets are not balanced\")\n",
        "else:\n",
        "  print(\"Curly brackets are balanced\") \n",
        "if(stack.count('[')!= stack.count(']')):\n",
        "  print(\"Square brackets are not balanced\")\n",
        "else:\n",
        "  print(\"Square brackets are balanced\")\n",
        " \n"
      ],
      "execution_count": null,
      "outputs": [
        {
          "output_type": "stream",
          "name": "stdout",
          "text": [
            "Enter: ()\n",
            "Round brackets are balanced\n",
            "Curly brackets are balanced\n",
            "Square brackets are balanced\n"
          ]
        }
      ]
    },
    {
      "cell_type": "code",
      "metadata": {
        "id": "-Kck47AadzzO"
      },
      "source": [
        ""
      ],
      "execution_count": null,
      "outputs": []
    },
    {
      "cell_type": "code",
      "metadata": {
        "id": "7RvBOQoCvGi1"
      },
      "source": [
        "import numpy as np\n",
        "class queue:\n",
        "    \n",
        "    def __init__ (self , s):\n",
        "        \n",
        "        self.s = s\n",
        "        self.elements = np.empty([self.s])\n",
        "        self.front=0\n",
        "        self.rear = 0\n",
        "        self.size = s\n",
        "    def queue_Enqueue(self,data):\n",
        "        \n",
        "        if (self.size == self.rear):\n",
        "            \n",
        "            return \"Queue is full (Overflow)\"\n",
        "        else:\n",
        "            self.elements[self.rear] = data\n",
        "            self.rear = self.rear +1\n",
        "\n",
        "    def queue_dequeue(self):\n",
        "        if (self.front == self.rear):\n",
        "            return \"Queue is Empty (Underflow)\" \n",
        "        else:\n",
        "            self.front = self.front + 1\n",
        "  \n",
        "    def queue_display(self):\n",
        "        if(self.front == self.rear):\n",
        "            return \"Queue is empty underflow \"\n",
        "        for x in self.elements:\n",
        "            print(x)\n",
        "\n",
        "    def queue_Front(self):\n",
        "        if(self.front == self.rear):\n",
        "            print(\"Queue is Empty underflow\")\n",
        "        print(\"Front Element is:\",\n",
        "          self.queue[self.front])"
      ],
      "execution_count": null,
      "outputs": []
    },
    {
      "cell_type": "code",
      "metadata": {
        "id": "dUk8IFBqwOav"
      },
      "source": [
        "q = queue(4)"
      ],
      "execution_count": null,
      "outputs": []
    },
    {
      "cell_type": "code",
      "metadata": {
        "colab": {
          "base_uri": "https://localhost:8080/",
          "height": 35
        },
        "id": "O_hXVq6YwWN9",
        "outputId": "36bc4056-4980-437b-cbbd-a25320e81398"
      },
      "source": [
        "q.queue_dequeue()"
      ],
      "execution_count": null,
      "outputs": [
        {
          "output_type": "execute_result",
          "data": {
            "application/vnd.google.colaboratory.intrinsic+json": {
              "type": "string"
            },
            "text/plain": [
              "'Queue is Empty (Underflow)'"
            ]
          },
          "metadata": {},
          "execution_count": 14
        }
      ]
    },
    {
      "cell_type": "code",
      "metadata": {
        "id": "uCARZFTYwYhA"
      },
      "source": [
        "q.queue_Enqueue(23)\n",
        "q.queue_Enqueue(2)\n",
        "q.queue_Enqueue(123)"
      ],
      "execution_count": null,
      "outputs": []
    },
    {
      "cell_type": "code",
      "metadata": {
        "colab": {
          "base_uri": "https://localhost:8080/",
          "height": 35
        },
        "id": "PsnBWiMxwZO2",
        "outputId": "135534a2-8ddc-49a7-d6e4-63664c3d4238"
      },
      "source": [
        "q.queue_Enqueue(23)\n",
        "q.queue_Enqueue(2)\n",
        "q.queue_Enqueue(123)\n",
        "q.queue_Enqueue(5)"
      ],
      "execution_count": null,
      "outputs": [
        {
          "output_type": "execute_result",
          "data": {
            "application/vnd.google.colaboratory.intrinsic+json": {
              "type": "string"
            },
            "text/plain": [
              "'Queue is full (Overflow)'"
            ]
          },
          "metadata": {},
          "execution_count": 16
        }
      ]
    }
  ]
}