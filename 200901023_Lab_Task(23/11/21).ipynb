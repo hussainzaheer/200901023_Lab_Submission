{
  "nbformat": 4,
  "nbformat_minor": 0,
  "metadata": {
    "colab": {
      "name": "200901023_Lab-Task.ipynb",
      "provenance": [],
      "authorship_tag": "ABX9TyO0xL/Bya4kZx7+YoODqbjT",
      "include_colab_link": true
    },
    "kernelspec": {
      "name": "python3",
      "display_name": "Python 3"
    },
    "language_info": {
      "name": "python"
    }
  },
  "cells": [
    {
      "cell_type": "markdown",
      "metadata": {
        "id": "view-in-github",
        "colab_type": "text"
      },
      "source": [
        "<a href=\"https://colab.research.google.com/github/hussainzaheer/200901023_Lab_Submission/blob/main/200901023_Lab_Task(23/11/21).ipynb\" target=\"_parent\"><img src=\"https://colab.research.google.com/assets/colab-badge.svg\" alt=\"Open In Colab\"/></a>"
      ]
    },
    {
      "cell_type": "code",
      "metadata": {
        "colab": {
          "base_uri": "https://localhost:8080/",
          "height": 358
        },
        "id": "HkE0ux2a_32n",
        "outputId": "ef60a377-cdcf-4756-f3a4-fc5395210ea2"
      },
      "source": [
        "class Node:    \n",
        "    def __init__(self,data):    \n",
        "        self.data = data;    \n",
        "        self.previous = None;    \n",
        "        self.next = None;   \n",
        "            \n",
        "class ReverseList:    \n",
        "    #Represent the head and tail of the doubly linked list    \n",
        "    def _init_(self):    \n",
        "        self.head = None;    \n",
        "        self.tail = None;    \n",
        "            \n",
        "    #addNode() will add a node to the list    \n",
        "    def addNode(self, data):    \n",
        "        #Create a new node    \n",
        "        newNode = Node(data);    \n",
        "            \n",
        "        #If list is empty    \n",
        "        if(self.head == None):    \n",
        "            #Both head and tail will point to newNode    \n",
        "            self.head = self.tail = newNode;    \n",
        "            #head's previous will point to None    \n",
        "            self.head.previous = None;    \n",
        "            #tail's next will point to None, as it is the last node of the list    \n",
        "            self.tail.next = None;    \n",
        "        else:    \n",
        "            #newNode will be added after tail such that tail's next will point to newNode    \n",
        "            self.tail.next = newNode;    \n",
        "            #newNode's previous will point to tail    \n",
        "            newNode.previous = self.tail;    \n",
        "            #newNode will become new tail    \n",
        "            self.tail = newNode;    \n",
        "            #As it is last node, tail's next will point to None    \n",
        "            self.tail.next = None;    \n",
        "                \n",
        "    #reverse() will reverse the doubly linked list    \n",
        "    def reverse(self):    \n",
        "        #Node current will point to head    \n",
        "        current = self.head;    \n",
        "            \n",
        "        #Swap the previous and next pointers of each node to reverse the direction of the list    \n",
        "        while(current != None):    \n",
        "            temp = current.next;    \n",
        "            current.next = current.previous;    \n",
        "            current.previous = temp;    \n",
        "            current = current.previous;    \n",
        "        #Swap the head and tail pointers.    \n",
        "        temp = self.head;    \n",
        "        self.head = self.tail;    \n",
        "        self.tail = temp;    \n",
        "            \n",
        "    #display() will print out the elements of the list    \n",
        "    def display(self):    \n",
        "        #Node current will point to head    \n",
        "        current = self.head;    \n",
        "        if(self.head == None):    \n",
        "            print(\"List is empty\");    \n",
        "            return;    \n",
        "                \n",
        "        while(current != None):    \n",
        "            #Prints each node by incrementing pointer.    \n",
        "            print(current.data),    \n",
        "            current = current.next;    \n",
        "                \n",
        "dList = ReverseList();    \n",
        "#Add nodes to the list    \n",
        "dList.addNode(1);    \n",
        "dList.addNode(2);    \n",
        "dList.addNode(3);    \n",
        "dList.addNode(4);    \n",
        "dList.addNode(5);    \n",
        "     \n",
        "print(\"Original List: \");    \n",
        "dList.display();    \n",
        "     \n",
        "#Reverse the given list    \n",
        "dList.reverse();    \n",
        "     \n",
        "#Displays the reversed list    \n",
        "print(\"\\nReversed List: \");    \n",
        "dList.display();"
      ],
      "execution_count": 5,
      "outputs": [
        {
          "output_type": "error",
          "ename": "AttributeError",
          "evalue": "ignored",
          "traceback": [
            "\u001b[0;31m---------------------------------------------------------------------------\u001b[0m",
            "\u001b[0;31mAttributeError\u001b[0m                            Traceback (most recent call last)",
            "\u001b[0;32m<ipython-input-5-4c7b483df853>\u001b[0m in \u001b[0;36m<module>\u001b[0;34m()\u001b[0m\n\u001b[1;32m     65\u001b[0m \u001b[0mdList\u001b[0m \u001b[0;34m=\u001b[0m \u001b[0mReverseList\u001b[0m\u001b[0;34m(\u001b[0m\u001b[0;34m)\u001b[0m\u001b[0;34m;\u001b[0m\u001b[0;34m\u001b[0m\u001b[0;34m\u001b[0m\u001b[0m\n\u001b[1;32m     66\u001b[0m \u001b[0;31m#Add nodes to the list\u001b[0m\u001b[0;34m\u001b[0m\u001b[0;34m\u001b[0m\u001b[0;34m\u001b[0m\u001b[0m\n\u001b[0;32m---> 67\u001b[0;31m \u001b[0mdList\u001b[0m\u001b[0;34m.\u001b[0m\u001b[0maddNode\u001b[0m\u001b[0;34m(\u001b[0m\u001b[0;36m1\u001b[0m\u001b[0;34m)\u001b[0m\u001b[0;34m;\u001b[0m\u001b[0;34m\u001b[0m\u001b[0;34m\u001b[0m\u001b[0m\n\u001b[0m\u001b[1;32m     68\u001b[0m \u001b[0mdList\u001b[0m\u001b[0;34m.\u001b[0m\u001b[0maddNode\u001b[0m\u001b[0;34m(\u001b[0m\u001b[0;36m2\u001b[0m\u001b[0;34m)\u001b[0m\u001b[0;34m;\u001b[0m\u001b[0;34m\u001b[0m\u001b[0;34m\u001b[0m\u001b[0m\n\u001b[1;32m     69\u001b[0m \u001b[0mdList\u001b[0m\u001b[0;34m.\u001b[0m\u001b[0maddNode\u001b[0m\u001b[0;34m(\u001b[0m\u001b[0;36m3\u001b[0m\u001b[0;34m)\u001b[0m\u001b[0;34m;\u001b[0m\u001b[0;34m\u001b[0m\u001b[0;34m\u001b[0m\u001b[0m\n",
            "\u001b[0;32m<ipython-input-5-4c7b483df853>\u001b[0m in \u001b[0;36maddNode\u001b[0;34m(self, data)\u001b[0m\n\u001b[1;32m     17\u001b[0m \u001b[0;34m\u001b[0m\u001b[0m\n\u001b[1;32m     18\u001b[0m         \u001b[0;31m#If list is empty\u001b[0m\u001b[0;34m\u001b[0m\u001b[0;34m\u001b[0m\u001b[0;34m\u001b[0m\u001b[0m\n\u001b[0;32m---> 19\u001b[0;31m         \u001b[0;32mif\u001b[0m\u001b[0;34m(\u001b[0m\u001b[0mself\u001b[0m\u001b[0;34m.\u001b[0m\u001b[0mhead\u001b[0m \u001b[0;34m==\u001b[0m \u001b[0;32mNone\u001b[0m\u001b[0;34m)\u001b[0m\u001b[0;34m:\u001b[0m\u001b[0;34m\u001b[0m\u001b[0;34m\u001b[0m\u001b[0m\n\u001b[0m\u001b[1;32m     20\u001b[0m             \u001b[0;31m#Both head and tail will point to newNode\u001b[0m\u001b[0;34m\u001b[0m\u001b[0;34m\u001b[0m\u001b[0;34m\u001b[0m\u001b[0m\n\u001b[1;32m     21\u001b[0m             \u001b[0mself\u001b[0m\u001b[0;34m.\u001b[0m\u001b[0mhead\u001b[0m \u001b[0;34m=\u001b[0m \u001b[0mself\u001b[0m\u001b[0;34m.\u001b[0m\u001b[0mtail\u001b[0m \u001b[0;34m=\u001b[0m \u001b[0mnewNode\u001b[0m\u001b[0;34m;\u001b[0m\u001b[0;34m\u001b[0m\u001b[0;34m\u001b[0m\u001b[0m\n",
            "\u001b[0;31mAttributeError\u001b[0m: 'ReverseList' object has no attribute 'head'"
          ]
        }
      ]
    }
  ]
}