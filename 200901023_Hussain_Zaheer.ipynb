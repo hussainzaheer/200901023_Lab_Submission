{
  "nbformat": 4,
  "nbformat_minor": 0,
  "metadata": {
    "colab": {
      "name": "200901023_Hussain Zaheer",
      "provenance": [],
      "authorship_tag": "ABX9TyPAYsTg7D6om6u7+inGaqsN",
      "include_colab_link": true
    },
    "kernelspec": {
      "name": "python3",
      "display_name": "Python 3"
    },
    "language_info": {
      "name": "python"
    }
  },
  "cells": [
    {
      "cell_type": "markdown",
      "metadata": {
        "id": "view-in-github",
        "colab_type": "text"
      },
      "source": [
        "<a href=\"https://colab.research.google.com/github/hussainzaheer/200901023_Lab_Submission/blob/main/200901023_Hussain_Zaheer.ipynb\" target=\"_parent\"><img src=\"https://colab.research.google.com/assets/colab-badge.svg\" alt=\"Open In Colab\"/></a>"
      ]
    },
    {
      "cell_type": "code",
      "metadata": {
        "colab": {
          "base_uri": "https://localhost:8080/"
        },
        "id": "TTKgBFcYoNtc",
        "outputId": "dd0cbd71-cb2a-4941-f898-e11e8a122a93"
      },
      "source": [
        "from collections import deque\n",
        "\n",
        "stack = deque()\n",
        "z1 =deque()\n",
        "country = input(\"Enter the name:\")\n",
        "for x in country:\n",
        "   stack.append(x)\n",
        "print(stack)\n",
        "while len(stack)!=0:\n",
        "   z1.append(stack.pop())\n",
        "print(z1)  \n",
        "\n"
      ],
      "execution_count": null,
      "outputs": [
        {
          "output_type": "stream",
          "name": "stdout",
          "text": [
            "Enter the name:PAKISTAN\n",
            "deque(['P', 'A', 'K', 'I', 'S', 'T', 'A', 'N'])\n",
            "deque(['N', 'A', 'T', 'S', 'I', 'K', 'A', 'P'])\n"
          ]
        }
      ]
    },
    {
      "cell_type": "code",
      "metadata": {
        "id": "1jU8wKw4pnAs",
        "colab": {
          "base_uri": "https://localhost:8080/"
        },
        "outputId": "588957b8-ab3a-47e8-e3bf-dabf048a28d5"
      },
      "source": [
        "from collections import deque\n",
        "\n",
        "balance = input(\"Enter: \")\n",
        "stack = deque()\n",
        "for x in balance:\n",
        "  stack.append(x)\n",
        "if(stack.count('(')!=stack.count(')')): \n",
        "  print(\"Round brackets are not balanced\")\n",
        "else:\n",
        "  print(\"Round brackets are balanced\")  \n",
        "if(stack.count('{')!= stack.count('}')):\n",
        "  print(\"Curly brackets are not balanced\")\n",
        "else:\n",
        "  print(\"Curly brackets are balanced\") \n",
        "if(stack.count('[')!= stack.count(']')):\n",
        "  print(\"Square brackets are not balanced\")\n",
        "else:\n",
        "  print(\"Square brackets are balanced\")\n",
        " \n"
      ],
      "execution_count": 13,
      "outputs": [
        {
          "output_type": "stream",
          "name": "stdout",
          "text": [
            "Enter: ()\n",
            "Round brackets are balanced\n",
            "Curly brackets are balanced\n",
            "Square brackets are balanced\n"
          ]
        }
      ]
    },
    {
      "cell_type": "code",
      "metadata": {
        "id": "W9Lm8x8nGEqz"
      },
      "source": [
        "\n",
        "\n"
      ],
      "execution_count": null,
      "outputs": []
    },
    {
      "cell_type": "code",
      "metadata": {
        "id": "J3f-cRBdtgQ7"
      },
      "source": [
        ""
      ],
      "execution_count": null,
      "outputs": []
    },
    {
      "cell_type": "code",
      "metadata": {
        "id": "Gt7TRaEUo5hs"
      },
      "source": [
        "\n",
        "\n",
        "\n",
        "\n",
        "\n",
        "\n"
      ],
      "execution_count": null,
      "outputs": []
    }
  ]
}