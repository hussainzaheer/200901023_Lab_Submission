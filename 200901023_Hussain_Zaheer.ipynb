{
  "nbformat": 4,
  "nbformat_minor": 0,
  "metadata": {
    "colab": {
      "name": "200901023_Hussain Zaheer.ipynb",
      "provenance": [],
      "authorship_tag": "ABX9TyPkIu/4QtFktZr+yT1kYJds",
      "include_colab_link": true
    },
    "kernelspec": {
      "name": "python3",
      "display_name": "Python 3"
    },
    "language_info": {
      "name": "python"
    }
  },
  "cells": [
    {
      "cell_type": "markdown",
      "metadata": {
        "id": "view-in-github",
        "colab_type": "text"
      },
      "source": [
        "<a href=\"https://colab.research.google.com/github/hussainzaheer/200901023_Lab_Submission/blob/main/200901023_Hussain_Zaheer.ipynb\" target=\"_parent\"><img src=\"https://colab.research.google.com/assets/colab-badge.svg\" alt=\"Open In Colab\"/></a>"
      ]
    },
    {
      "cell_type": "code",
      "metadata": {
        "id": "Doqj_pP9ulcQ"
      },
      "source": [
        "#Today's Lab Tasks(01/11/2021)\n",
        "\n",
        "class node:\n",
        "  def __init__(self,data=None):\n",
        "    self.data= data\n",
        "    self.next=None\n",
        "    \n",
        "class linkedlist:\n",
        "  def __init__(self):\n",
        "    self.head=node()   \n",
        "  def append(self,data):\n",
        "      new_node=node(data)\n",
        "      curr=self.head  #temporary variable \n",
        "      while curr.next!=None:\n",
        "        curr=curr.next\n",
        "      curr.next=new_node\n",
        "\n",
        "  def display(self):\n",
        "     curr=self.head\n",
        "     dis=[]\n",
        "     while curr.next!=None:\n",
        "       curr=curr.next\n",
        "       dis.append(curr.data)\n",
        "       print(dis)\n",
        "\n",
        "  def len_list(self):\n",
        "        size = 0\n",
        "        curr = self.head\n",
        "        if self.head!= None:\n",
        "            size = 1\n",
        "        else:\n",
        "          print(\"list is Empty\")\n",
        "        while curr.next!= None:\n",
        "            Size = size +1\n",
        "            curr = curr.next\n",
        "        print(size)     \n",
        "     \n",
        "  def delete(self):\n",
        "    curr=self.head\n",
        "    while(curr.next.next):\n",
        "      #secondlast_node=curr.next\n",
        "      curr=curr.next\n",
        "    curr.next=None   \n"
      ],
      "execution_count": 47,
      "outputs": []
    },
    {
      "cell_type": "code",
      "metadata": {
        "id": "SDrwljf1wtDf"
      },
      "source": [
        "my_list=linkedlist()"
      ],
      "execution_count": 48,
      "outputs": []
    },
    {
      "cell_type": "code",
      "metadata": {
        "id": "ztgOGE9R14oQ"
      },
      "source": [
        "my_list.append(1)"
      ],
      "execution_count": 49,
      "outputs": []
    },
    {
      "cell_type": "code",
      "metadata": {
        "colab": {
          "base_uri": "https://localhost:8080/"
        },
        "id": "Oh61ejxx4iyf",
        "outputId": "544c715c-03de-4438-818d-425ab9c5a6b6"
      },
      "source": [
        "my_list.display()"
      ],
      "execution_count": 50,
      "outputs": [
        {
          "output_type": "stream",
          "name": "stdout",
          "text": [
            "[1]\n"
          ]
        }
      ]
    },
    {
      "cell_type": "code",
      "metadata": {
        "id": "y-LpGB5l5Uem"
      },
      "source": [
        "my_list.append(2)"
      ],
      "execution_count": 51,
      "outputs": []
    },
    {
      "cell_type": "code",
      "metadata": {
        "colab": {
          "base_uri": "https://localhost:8080/"
        },
        "id": "0Dpc7qvo5Urz",
        "outputId": "8b900281-c7b4-4491-94dc-6c77d3d43008"
      },
      "source": [
        "my_list.display()"
      ],
      "execution_count": 52,
      "outputs": [
        {
          "output_type": "stream",
          "name": "stdout",
          "text": [
            "[1]\n",
            "[1, 2]\n"
          ]
        }
      ]
    },
    {
      "cell_type": "code",
      "metadata": {
        "id": "UQCWx29Q7JOF"
      },
      "source": [
        "my_list.delete()"
      ],
      "execution_count": 53,
      "outputs": []
    },
    {
      "cell_type": "code",
      "metadata": {
        "colab": {
          "base_uri": "https://localhost:8080/"
        },
        "id": "Fz6pIF0G7Sf8",
        "outputId": "9b957ff7-7742-4ed1-f267-f2f81c8f4b0e"
      },
      "source": [
        "my_list.display()"
      ],
      "execution_count": 54,
      "outputs": [
        {
          "output_type": "stream",
          "name": "stdout",
          "text": [
            "[1]\n"
          ]
        }
      ]
    },
    {
      "cell_type": "code",
      "metadata": {
        "colab": {
          "base_uri": "https://localhost:8080/"
        },
        "id": "fz_K66xHEFkf",
        "outputId": "765dd033-688c-4896-d6db-839095e1fc39"
      },
      "source": [
        "my_list.len_list()"
      ],
      "execution_count": 55,
      "outputs": [
        {
          "output_type": "stream",
          "name": "stdout",
          "text": [
            "1\n"
          ]
        }
      ]
    }
  ]
}